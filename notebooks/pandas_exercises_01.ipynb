{
 "cells": [
  {
   "cell_type": "markdown",
   "metadata": {},
   "source": [
    "# Pandas Exercises Notebook\n",
    "\n",
    "This notebook contains exercises to practice working with Pandas DataFrames. Each exercise includes a problem description and space for your solution.\n",
    "\n",
    "First, let's import the required libraries:"
   ]
  },
  {
   "cell_type": "code",
   "execution_count": 1,
   "metadata": {},
   "outputs": [],
   "source": [
    "import pandas as pd\n",
    "import numpy as np"
   ]
  },
  {
   "cell_type": "markdown",
   "metadata": {},
   "source": [
    "## Exercise 1: Creating DataFrames\n",
    "\n",
    "Create a DataFrame representing student grades with the following data:\n",
    "- Names: Alice, Bob, Charlie\n",
    "- Subjects: Math, Science, English\n",
    "- Grades: Random numbers between 60 and 100"
   ]
  },
  {
   "cell_type": "code",
   "execution_count": 2,
   "metadata": {},
   "outputs": [
    {
     "data": {
      "text/html": [
       "<div>\n",
       "<style scoped>\n",
       "    .dataframe tbody tr th:only-of-type {\n",
       "        vertical-align: middle;\n",
       "    }\n",
       "\n",
       "    .dataframe tbody tr th {\n",
       "        vertical-align: top;\n",
       "    }\n",
       "\n",
       "    .dataframe thead th {\n",
       "        text-align: right;\n",
       "    }\n",
       "</style>\n",
       "<table border=\"1\" class=\"dataframe\">\n",
       "  <thead>\n",
       "    <tr style=\"text-align: right;\">\n",
       "      <th></th>\n",
       "      <th>Math</th>\n",
       "      <th>Science</th>\n",
       "      <th>English</th>\n",
       "    </tr>\n",
       "  </thead>\n",
       "  <tbody>\n",
       "    <tr>\n",
       "      <th>Alice</th>\n",
       "      <td>98</td>\n",
       "      <td>67</td>\n",
       "      <td>78</td>\n",
       "    </tr>\n",
       "    <tr>\n",
       "      <th>Bob</th>\n",
       "      <td>88</td>\n",
       "      <td>80</td>\n",
       "      <td>82</td>\n",
       "    </tr>\n",
       "    <tr>\n",
       "      <th>Charlie</th>\n",
       "      <td>74</td>\n",
       "      <td>98</td>\n",
       "      <td>70</td>\n",
       "    </tr>\n",
       "  </tbody>\n",
       "</table>\n",
       "</div>"
      ],
      "text/plain": [
       "         Math  Science  English\n",
       "Alice      98       67       78\n",
       "Bob        88       80       82\n",
       "Charlie    74       98       70"
      ]
     },
     "execution_count": 2,
     "metadata": {},
     "output_type": "execute_result"
    }
   ],
   "source": [
    "# Your solution here\n",
    "np.random.seed(42)  # For reproducibility\n",
    "data = {\n",
    "    'Math': np.random.randint(60, 100, 3),\n",
    "    'Science': np.random.randint(60, 100, 3),\n",
    "    'English': np.random.randint(60, 100, 3)\n",
    "}\n",
    "index = ['Alice', 'Bob', 'Charlie']\n",
    "df = pd.DataFrame(data, index=index)\n",
    "df"
   ]
  },
  {
   "cell_type": "markdown",
   "metadata": {},
   "source": [
    "## Exercise 2: Basic Statistics\n",
    "\n",
    "Using the grades DataFrame:\n",
    "1. Calculate the mean grade for each student\n",
    "2. Find the highest grade in each subject\n",
    "3. Calculate the standard deviation for each subject"
   ]
  },
  {
   "cell_type": "code",
   "execution_count": 3,
   "metadata": {},
   "outputs": [
    {
     "name": "stdout",
     "output_type": "stream",
     "text": [
      "Mean grades per student:\n",
      "Alice     81.00\n",
      "Bob       83.33\n",
      "Charlie   80.67\n",
      "dtype: float64\n",
      "\n",
      "Highest grade per subject:\n",
      "Math       98\n",
      "Science    98\n",
      "English    82\n",
      "dtype: int64\n",
      "\n",
      "Standard deviation per subject:\n",
      "Math      12.06\n",
      "Science   15.57\n",
      "English    6.11\n",
      "dtype: float64\n"
     ]
    }
   ],
   "source": [
    "# Mean grade per student\n",
    "print(\"Mean grades per student:\")\n",
    "print(df.mean(axis=1))\n",
    "\n",
    "# Highest grade per subject\n",
    "print(\"\\nHighest grade per subject:\")\n",
    "print(df.max())\n",
    "\n",
    "# Standard deviation per subject\n",
    "print(\"\\nStandard deviation per subject:\")\n",
    "print(df.std())"
   ]
  },
  {
   "cell_type": "markdown",
   "metadata": {},
   "source": [
    "## Exercise 3: Data Filtering\n",
    "\n",
    "Create a new DataFrame with sales data and practice filtering:\n",
    "1. Create a sales DataFrame with columns: 'Product', 'Category', 'Price', 'Units_Sold'\n",
    "2. Filter products that sold more than 100 units\n",
    "3. Find products with price greater than the average price"
   ]
  },
  {
   "cell_type": "code",
   "execution_count": 4,
   "metadata": {},
   "outputs": [
    {
     "name": "stdout",
     "output_type": "stream",
     "text": [
      "Products with more than 100 units sold:\n",
      "      Product     Category  Price  Units_Sold\n",
      "1       Phone  Electronics    800         120\n",
      "3       Watch  Accessories    300         200\n",
      "4  Headphones  Accessories    150         150\n",
      "\n",
      "Products with above-average price:\n",
      "  Product     Category  Price  Units_Sold\n",
      "0  Laptop  Electronics   1200          50\n",
      "1   Phone  Electronics    800         120\n"
     ]
    }
   ],
   "source": [
    "# Create sales DataFrame\n",
    "sales_data = {\n",
    "    'Product': ['Laptop', 'Phone', 'Tablet', 'Watch', 'Headphones'],\n",
    "    'Category': ['Electronics', 'Electronics', 'Electronics', 'Accessories', 'Accessories'],\n",
    "    'Price': [1200, 800, 500, 300, 150],\n",
    "    'Units_Sold': [50, 120, 80, 200, 150]\n",
    "}\n",
    "sales_df = pd.DataFrame(sales_data)\n",
    "\n",
    "# Products with more than 100 units sold\n",
    "print(\"Products with more than 100 units sold:\")\n",
    "print(sales_df[sales_df['Units_Sold'] > 100])\n",
    "\n",
    "# Products with above-average price\n",
    "avg_price = sales_df['Price'].mean()\n",
    "print(\"\\nProducts with above-average price:\")\n",
    "print(sales_df[sales_df['Price'] > avg_price])"
   ]
  },
  {
   "cell_type": "markdown",
   "metadata": {},
   "source": [
    "## Exercise 4: Grouping and Aggregation\n",
    "\n",
    "Using the sales DataFrame from Exercise 3:\n",
    "1. Group by Category and calculate total units sold\n",
    "2. Find the average price per category\n",
    "3. Get the product with highest sales (units × price) in each category"
   ]
  },
  {
   "cell_type": "code",
   "execution_count": 5,
   "metadata": {},
   "outputs": [
    {
     "name": "stdout",
     "output_type": "stream",
     "text": [
      "Total units sold per category:\n",
      "Category\n",
      "Accessories    350\n",
      "Electronics    250\n",
      "Name: Units_Sold, dtype: int64\n",
      "\n",
      "Average price per category:\n",
      "Category\n",
      "Accessories   225.00\n",
      "Electronics   833.33\n",
      "Name: Price, dtype: float64\n",
      "\n",
      "Product with highest sales in each category:\n",
      "  Product     Category  Price  Units_Sold  Total_Sales\n",
      "3   Watch  Accessories    300         200        60000\n",
      "1   Phone  Electronics    800         120        96000\n"
     ]
    }
   ],
   "source": [
    "# Total units sold per category\n",
    "print(\"Total units sold per category:\")\n",
    "print(sales_df.groupby('Category')['Units_Sold'].sum())\n",
    "\n",
    "# Average price per category\n",
    "print(\"\\nAverage price per category:\")\n",
    "print(sales_df.groupby('Category')['Price'].mean())\n",
    "\n",
    "# Calculate total sales and find highest per category\n",
    "sales_df['Total_Sales'] = sales_df['Price'] * sales_df['Units_Sold']\n",
    "print(\"\\nProduct with highest sales in each category:\")\n",
    "print(sales_df.loc[sales_df.groupby('Category')['Total_Sales'].idxmax()])"
   ]
  },
  {
   "cell_type": "markdown",
   "metadata": {},
   "source": [
    "## Exercise 5: Data Cleaning and Transformation\n",
    "\n",
    "Practice data cleaning with a new DataFrame containing some missing and duplicate values:\n",
    "1. Create a DataFrame with some NaN values and duplicates\n",
    "2. Remove duplicates\n",
    "3. Fill missing values\n",
    "4. Create a new calculated column"
   ]
  },
  {
   "cell_type": "code",
   "execution_count": 6,
   "metadata": {},
   "outputs": [
    {
     "name": "stdout",
     "output_type": "stream",
     "text": [
      "Original messy DataFrame:\n",
      "  Item  Quantity  Price\n",
      "0    A     10.00 100.00\n",
      "1    B       NaN 200.00\n",
      "2    A     10.00 100.00\n",
      "3    C     30.00    NaN\n",
      "4    D     40.00 400.00\n",
      "\n",
      "After removing duplicates:\n",
      "  Item  Quantity  Price\n",
      "0    A     10.00 100.00\n",
      "1    B       NaN 200.00\n",
      "3    C     30.00    NaN\n",
      "4    D     40.00 400.00\n",
      "\n",
      "After filling missing values:\n",
      "  Item  Quantity  Price\n",
      "0    A     10.00 100.00\n",
      "1    B     26.67 200.00\n",
      "3    C     30.00 233.33\n",
      "4    D     40.00 400.00\n",
      "\n",
      "With calculated total value:\n",
      "  Item  Quantity  Price  Total_Value\n",
      "0    A     10.00 100.00      1000.00\n",
      "1    B     26.67 200.00      5333.33\n",
      "3    C     30.00 233.33      7000.00\n",
      "4    D     40.00 400.00     16000.00\n"
     ]
    },
    {
     "name": "stderr",
     "output_type": "stream",
     "text": [
      "/var/folders/31/b9pwgxyd4rz86p81hzwb44bm0000gn/T/ipykernel_95400/457195651.py:17: SettingWithCopyWarning: \n",
      "A value is trying to be set on a copy of a slice from a DataFrame.\n",
      "Try using .loc[row_indexer,col_indexer] = value instead\n",
      "\n",
      "See the caveats in the documentation: https://pandas.pydata.org/pandas-docs/stable/user_guide/indexing.html#returning-a-view-versus-a-copy\n",
      "  clean_df['Quantity'] = clean_df['Quantity'].fillna(clean_df['Quantity'].mean())\n",
      "/var/folders/31/b9pwgxyd4rz86p81hzwb44bm0000gn/T/ipykernel_95400/457195651.py:18: SettingWithCopyWarning: \n",
      "A value is trying to be set on a copy of a slice from a DataFrame.\n",
      "Try using .loc[row_indexer,col_indexer] = value instead\n",
      "\n",
      "See the caveats in the documentation: https://pandas.pydata.org/pandas-docs/stable/user_guide/indexing.html#returning-a-view-versus-a-copy\n",
      "  clean_df['Price'] = clean_df['Price'].fillna(clean_df['Price'].mean())\n",
      "/var/folders/31/b9pwgxyd4rz86p81hzwb44bm0000gn/T/ipykernel_95400/457195651.py:23: SettingWithCopyWarning: \n",
      "A value is trying to be set on a copy of a slice from a DataFrame.\n",
      "Try using .loc[row_indexer,col_indexer] = value instead\n",
      "\n",
      "See the caveats in the documentation: https://pandas.pydata.org/pandas-docs/stable/user_guide/indexing.html#returning-a-view-versus-a-copy\n",
      "  clean_df['Total_Value'] = clean_df['Quantity'] * clean_df['Price']\n"
     ]
    }
   ],
   "source": [
    "# Create DataFrame with missing values and duplicates\n",
    "messy_data = {\n",
    "    'Item': ['A', 'B', 'A', 'C', 'D'],\n",
    "    'Quantity': [10, np.nan, 10, 30, 40],\n",
    "    'Price': [100, 200, 100, np.nan, 400]\n",
    "}\n",
    "messy_df = pd.DataFrame(messy_data)\n",
    "print(\"Original messy DataFrame:\")\n",
    "print(messy_df)\n",
    "\n",
    "# Remove duplicates\n",
    "clean_df = messy_df.drop_duplicates()\n",
    "print(\"\\nAfter removing duplicates:\")\n",
    "print(clean_df)\n",
    "\n",
    "# Fill missing values\n",
    "clean_df['Quantity'] = clean_df['Quantity'].fillna(clean_df['Quantity'].mean())\n",
    "clean_df['Price'] = clean_df['Price'].fillna(clean_df['Price'].mean())\n",
    "print(\"\\nAfter filling missing values:\")\n",
    "print(clean_df)\n",
    "\n",
    "# Add total value column\n",
    "clean_df['Total_Value'] = clean_df['Quantity'] * clean_df['Price']\n",
    "print(\"\\nWith calculated total value:\")\n",
    "print(clean_df)"
   ]
  },
  {
   "cell_type": "markdown",
   "metadata": {},
   "source": [
    "## Exercise 6: Challenge Exercise\n",
    "\n",
    "Create a more complex analysis combining multiple operations:\n",
    "1. Merge the sales_df with a new DataFrame containing supplier information\n",
    "2. Calculate profit margins (assume cost is 60% of price)\n",
    "3. Create a summary report showing top performing products by profit"
   ]
  },
  {
   "cell_type": "code",
   "execution_count": 7,
   "metadata": {},
   "outputs": [
    {
     "name": "stdout",
     "output_type": "stream",
     "text": [
      "Product Performance Summary:\n",
      "      Product   Supplier  Units_Sold  Total_Profit\n",
      "1       Phone  SupplierB         120      38400.00\n",
      "0      Laptop  SupplierA          50      24000.00\n",
      "3       Watch  SupplierC         200      24000.00\n",
      "2      Tablet  SupplierA          80      16000.00\n",
      "4  Headphones  SupplierB         150       9000.00\n",
      "\n",
      "Supplier Performance Summary:\n",
      "           Total_Profit  Units_Sold  Lead_Time_Days\n",
      "Supplier                                           \n",
      "SupplierA      40000.00         130           13.50\n",
      "SupplierB      47400.00         270            8.50\n",
      "SupplierC      24000.00         200            5.00\n"
     ]
    }
   ],
   "source": [
    "# Create supplier DataFrame\n",
    "supplier_data = {\n",
    "    'Product': ['Laptop', 'Phone', 'Tablet', 'Watch', 'Headphones'],\n",
    "    'Supplier': ['SupplierA', 'SupplierB', 'SupplierA', 'SupplierC', 'SupplierB'],\n",
    "    'Lead_Time_Days': [15, 10, 12, 5, 7]\n",
    "}\n",
    "supplier_df = pd.DataFrame(supplier_data)\n",
    "\n",
    "# Merge DataFrames\n",
    "merged_df = sales_df.merge(supplier_df, on='Product')\n",
    "\n",
    "# Calculate profits\n",
    "merged_df['Cost'] = merged_df['Price'] * 0.6\n",
    "merged_df['Profit_Per_Unit'] = merged_df['Price'] - merged_df['Cost']\n",
    "merged_df['Total_Profit'] = merged_df['Profit_Per_Unit'] * merged_df['Units_Sold']\n",
    "\n",
    "# Create summary report\n",
    "print(\"Product Performance Summary:\")\n",
    "summary = merged_df.sort_values('Total_Profit', ascending=False)\n",
    "print(summary[['Product', 'Supplier', 'Units_Sold', 'Total_Profit']])\n",
    "\n",
    "# Supplier performance\n",
    "print(\"\\nSupplier Performance Summary:\")\n",
    "supplier_summary = merged_df.groupby('Supplier').agg({\n",
    "    'Total_Profit': 'sum',\n",
    "    'Units_Sold': 'sum',\n",
    "    'Lead_Time_Days': 'mean'\n",
    "}).round(2)\n",
    "print(supplier_summary)"
   ]
  }
 ],
 "metadata": {
  "kernelspec": {
   "display_name": "Python 3 (ipykernel)",
   "language": "python",
   "name": "python3"
  },
  "language_info": {
   "codemirror_mode": {
    "name": "ipython",
    "version": 3
   },
   "file_extension": ".py",
   "mimetype": "text/x-python",
   "name": "python",
   "nbconvert_exporter": "python",
   "pygments_lexer": "ipython3",
   "version": "3.13.0"
  }
 },
 "nbformat": 4,
 "nbformat_minor": 4
}
