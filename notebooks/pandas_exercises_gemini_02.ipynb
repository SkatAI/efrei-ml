{
    "cells": [
        {
            "cell_type": "markdown",
            "id": "2f18cab0",
            "metadata": {},
            "source": [
                "# Pandas Exercises with Tree Data\n",
                "\n",
                "This notebook provides a series of exercises using a dataset of trees in Paris.  These exercises will focus on basic data cleaning, exploration, and filtering."
            ]
        },
        {
            "cell_type": "code",
            "execution_count": 1,
            "id": "c6fc7c60",
            "metadata": {},
            "outputs": [],
            "source": [
                "import pandas as pd\n",
                "\n",
                "# Load the dataset\n",
                "df = pd.read_csv('les_arbres_upload_1k.csv')"
            ]
        },
        {
            "cell_type": "markdown",
            "id": "96d3c1fc",
            "metadata": {},
            "source": [
                "## Exercise 1: Basic Inspection\n",
                "\n",
                "1.  Display the first 5 rows of the DataFrame using `.head()`.\n",
                "2.  Display the last 5 rows of the DataFrame using `.tail()`.\n",
                "3.  Get and print the shape of the DataFrame (number of rows and columns) using `.shape`.\n",
                "4. Get and print the column names using `.columns`.\n"
            ]
        },
        {
            "cell_type": "code",
            "execution_count": null,
            "id": "5cce7d1d",
            "metadata": {},
            "outputs": [],
            "source": [
                "# Exercise 1 Solution Here\n"
            ]
        },
        {
            "cell_type": "code",
            "execution_count": 2,
            "id": "22399df6",
            "metadata": {},
            "outputs": [
                {
                    "name": "stdout",
                    "output_type": "stream",
                    "text": [
                        "   idbase location_type     domain   arrondissement  suppl_address  number  \\\n",
                        "0  249403         Arbre Alignement  PARIS 20E ARRDT             54     NaN   \n",
                        "1  2020183        Arbre     Jardin  PARIS 17E ARRDT  Sortie des Charmes     NaN   \n",
                        "2  290961         Arbre Alignement  PARIS 12E ARRDT             35     NaN   \n",
                        "3  2038819        Arbre    CIMETIERE  SEINE-SAINT-DENIS            NaN     NaN   \n",
                        "4  2042131        Arbre     Jardin  PARIS 18E ARRDT            NaN     NaN   \n",
                        "\n",
                        "                                            address  id_location  \\\n",
                        "0                                    AVENUE GAMBETTA    1402008   \n",
                        "1  PARC CLICHY BATIGNOLLES MARTIN LUTHER KING / 1...  E00301002   \n",
                        "2                                  AVENUE COURTELINE     503003   \n",
                        "3             CIMETIERE DE PANTIN / DIV 124  D00000124006   \n",
                        "4   PARC CHAPELLE CHARBON - 5Z RUE DE LA CROIX M...     404003   \n",
                        "\n",
                        "          name      genre    species     variety  circumference  height  \\\n",
                        "0       Tilleul      Tilia  tomentosa         NaN             85      10   \n",
                        "1        Charme   Carpinus    betulus         NaN             33       6   \n",
                        "2      Robinier    Robinia  pseudoacacia  Bessoniana             25       5   \n",
                        "3  Arbre à soie    Albizia        sp.         NaN             20       5   \n",
                        "4  Amélanchier  Amelanchier  lamarckii         NaN             16       4   \n",
                        "\n",
                        "         stage remarkable            geo_point_2d  \n",
                        "0      Adulte        NON  48.86685102642415, 2.400262189227641  \n",
                        "1  Jeune (arbre)        NON  48.89227416971153, 2.3138805655035446  \n",
                        "2  Jeune (arbre)        NON  48.84403805860435, 2.4147874668129603  \n",
                        "3                      NON  48.90334546262646, 2.4130271915901162  \n",
                        "4  Jeune (arbre)        NON  48.896917788620975, 2.362766161184105  \n",
                        "   idbase location_type    domain  arrondissement  suppl_address  number  \\\n",
                        "995  204317         Arbre  Jardin   PARIS 2E ARRDT           NaN     NaN   \n",
                        "996  2031608        Arbre    DASCO  SEINE-SAINT-DENIS           NaN     NaN   \n",
                        "997  228549         Arbre Alignement  PARIS 13E ARRDT             2     NaN   \n",
                        "998   204192        Arbre Alignement  PARIS 12E ARRDT           NaN     NaN   \n",
                        "999  124985         Arbre  Jardin   PARIS 13E ARRDT           NaN     NaN   \n",
                        "\n",
                        "                                               address id_location  \\\n",
                        "995  JARDIN DE LA BIBLIOTHEQUE NATIONALE DE FRANCE...   101004  \n",
                        "996    STADE DEPARTEMENTAL DE LA MOTTE / 59 RUE MAR...  102008  \n",
                        "997                                        RUE AUDUBON    101002   \n",
                        "998                                      RUE ABEL    101010  \n",
                        "999    JARDIN DE LA DALLE D IVRY / 28 AVENUE DE CH...   203007   \n",
                        "\n",
                        "                      name       genre       species      variety  \\\n",
                        "995            Palmier   Trachycarpus    fortunei         NaN   \n",
                        "996             Erable        Acer  platanoides         NaN   \n",
                        "997  Poirier à fleurs       Pyrus   calleryana  Chanticleer   \n",
                        "998   Cerisier à fleurs      Prunus       avium       Plena   \n",
                        "999                 Pin        Pinus      nigra          NaN   \n",
                        "\n",
                        "     circumference  height         stage remarkable  \\\n",
                        "995             40       9  Jeune (arbre)        NON   \n",
                        "996            140       6      Adulte        NON   \n",
                        "997             70       5      Adulte        NON   \n",
                        "998             20       5  Jeune (arbre)        NON   \n",
                        "999            105      12      Adulte        NON   \n",
                        "\n",
                        "                      geo_point_2d  \n",
                        "995  48.86693581235371, 2.338842903193851  \n",
                        "996   48.9111688365984, 2.423209958523219  \n",
                        "997  48.84568494182953, 2.369684585544474  \n",
                        "998  48.8454845728383, 2.377191788577086  \n",
                        "999   48.82280776665344, 2.3649277877962045  \n",
                        "(1000, 17)\n",
                        "Index(['idbase', 'location_type', 'domain', 'arrondissement', 'suppl_address',\n",
                        "       'number', 'address', 'id_location', 'name', 'genre', 'species',\n",
                        "       'variety', 'circumference', 'height', 'stage', 'remarkable',\n",
                        "       'geo_point_2d'],\n",
                        "      dtype='object')\n"
                    ]
                }
            ],
            "source": [
                "print(df.head())\n",
                "print(df.tail())\n",
                "print(df.shape)\n",
                "print(df.columns)"
            ]
        },
        {
            "cell_type": "markdown",
            "id": "63909630",
            "metadata": {},
            "source": [
                "## Exercise 2: Handling Missing Data\n",
                "\n",
                "1. Check for missing values in each column using `.isna().sum()`, and print the result.\n",
                "2. Fill the missing values in the `variety` column with 'Unknown' using `.fillna()` and then display the number of missing values using `.isna().sum()`. "
            ]
        },
        {
            "cell_type": "code",
            "execution_count": null,
            "id": "0693190c",
            "metadata": {},
            "outputs": [],
            "source": [
                "# Exercise 2 Solution Here"
            ]
        },
        {
            "cell_type": "code",
            "execution_count": 3,
            "id": "af9fe2fd",
            "metadata": {},
            "outputs": [
                {
                    "name": "stdout",
                    "output_type": "stream",
                    "text": [
                        "idbase               0\n",
                        "location_type       0\n",
                        "domain              0\n",
                        "arrondissement      0\n",
                        "suppl_address     464\n",
                        "number            825\n",
                        "address             0\n",
                        "id_location         0\n",
                        "name                0\n",
                        "genre               0\n",
                        "species             0\n",
                        "variety           693\n",
                        "circumference       0\n",
                        "height              0\n",
                        "stage               0\n",
                        "remarkable          0\n",
                        "geo_point_2d        0\n",
                        "dtype: int64\n",
                        "idbase               0\n",
                        "location_type       0\n",
                        "domain              0\n",
                        "arrondissement      0\n",
                        "suppl_address     464\n",
                        "number            825\n",
                        "address             0\n",
                        "id_location         0\n",
                        "name                0\n",
                        "genre               0\n",
                        "species             0\n",
                        "variety              0\n",
                        "circumference       0\n",
                        "height              0\n",
                        "stage               0\n",
                        "remarkable          0\n",
                        "geo_point_2d        0\n",
                        "dtype: int64\n"
                    ]
                }
            ],
            "source": [
                "print(df.isna().sum())\n",
                "df['variety'] = df['variety'].fillna('Unknown')\n",
                "print(df.isna().sum())"
            ]
        },
        {
            "cell_type": "markdown",
            "id": "f61d51bf",
            "metadata": {},
            "source": [
                "## Exercise 3: Value Counts\n",
                "\n",
                "1.  Calculate and print the value counts for the `location_type` column.\n",
                "2.  Calculate and print the value counts for the `arrondissement` column.\n",
                "3.  Calculate and print the value counts for the `species` column. "
            ]
        },
        {
            "cell_type": "code",
            "execution_count": null,
            "id": "f285d1b4",
            "metadata": {},
            "outputs": [],
            "source": [
                "# Exercise 3 Solution Here"
            ]
        },
        {
            "cell_type": "code",
            "execution_count": 4,
            "id": "9c607113",
            "metadata": {},
            "outputs": [
                {
                    "name": "stdout",
                    "output_type": "stream",
                    "text": [
                        "Arbre    1000\n",
                        "Name: location_type, dtype: int64\n",
                        "PARIS 16E ARRDT        108\n",
                        "PARIS 12E ARRDT        100\n",
                        "PARIS 19E ARRDT        100\n",
                        "SEINE-SAINT-DENIS       98\n",
                        "PARIS 13E ARRDT        81\n",
                        "PARIS 17E ARRDT        75\n",
                        "BOIS DE VINCENNES       62\n",
                        "PARIS 20E ARRDT        57\n",
                        "PARIS 14E ARRDT        55\n",
                        "PARIS 7E ARRDT         45\n",
                        "PARIS 18E ARRDT        38\n",
                        "PARIS 5E ARRDT         33\n",
                        "BOIS DE BOULOGNE        19\n",
                        "PARIS 8E ARRDT         19\n",
                        "PARIS 10E ARRDT        17\n",
                        "PARIS 11E ARRDT        15\n",
                        "VAL-DE-MARNE          13\n",
                        "PARIS 4E ARRDT         11\n",
                        "PARIS 6E ARRDT          6\n",
                        "PARIS 9E ARRDT          4\n",
                        "HAUTS-DE-SEINE         4\n",
                        "PARIS 2E ARRDT          2\n",
                        "Name: arrondissement, dtype: int64\n",
                        "x hispanica          198\n",
                        "hippocastanum         126\n",
                        "tomentosa              87\n",
                        "betulus                49\n",
                        "cordata                37\n",
                        "sp.                    33\n",
                        "nigra                  32\n",
                        "calleryana             30\n",
                        "x carnea               23\n",
                        "ornus                  22\n",
                        "australis              20\n",
                        "platanoides            19\n",
                        "excelsior              17\n",
                        "serrulata              17\n",
                        "nigra subsp. nigra     13\n",
                        "sylvatica              13\n",
                        "x euchlora             13\n",
                        "x europaea              9\n",
                        "platyphyllos           9\n",
                        "pseudoacacia           9\n",
                        "ilex                   7\n",
                        "tataricum subsp. ginnala     1\n",
                        "monspessulanum         1\n",
                        "rubra                  4\n",
                        "siliquastrum           4\n",
                        "alba                   4\n",
                        "pumila                 1\n",
                        "negundo                2\n",
                        "coccinea               1\n",
                        "padus                 2\n",
                        "styraciflua           2\n",
                        "americana             1\n",
                        "sinensis             4\n",
                        "colurna              4\n",
                        "communis              1\n",
                        "julibrissin              1\n",
                        "x subhirtella          1\n",
                        "x schmittii           1\n",
                        "salicifolia         1\n",
                        "tschonoskii           4\n",
                        "x fraseri              1\n",
                        "avium                 1\n",
                        "mongolica             3\n",
                        "pendula              2\n",
                        "x canadensis         2\n",
                        "orientalis            9\n",
                        "x hispanica            9\n",
                        "saccharinum         1\n",
                        "atlantica         1\n",
                        "sp.                  1\n",
                        "Name: species, dtype: int64\n"
                    ]
                }
            ],
            "source": [
                "print(df['location_type'].value_counts())\n",
                "print(df['arrondissement'].value_counts())\n",
                "print(df['species'].value_counts())"
            ]
        },
        {
            "cell_type": "markdown",
            "id": "d7f26d33",
            "metadata": {},
            "source": [
                "## Exercise 4: Data Type Conversion\n",
                "\n",
                "1. Convert the `circumference` column to integer type using `.astype(int)`. \n",
                "2. Convert the `height` column to float type using `.astype(float)`. "
            ]
        },
        {
            "cell_type": "code",
            "execution_count": null,
            "id": "477fab95",
            "metadata": {},
            "outputs": [],
            "source": [
                "# Exercise 4 Solution Here"
            ]
        },
        {
            "cell_type": "code",
            "execution_count": 5,
            "id": "e1ffe75e",
            "metadata": {},
            "outputs": [
                {
                    "name": "stdout",
                    "output_type": "stream",
                    "text": [
                        "circumference    int64\n",
                        "height           float64\n",
                        "dtype: object\n"
                    ]
                }
            ],
            "source": [
                "df['circumference'] = df['circumference'].astype(int)\n",
                "df['height'] = df['height'].astype(float)\n",
                "print(df[['circumference','height']].dtypes)"
            ]
        },
        {
            "cell_type": "markdown",
            "id": "bb589e4e",
            "metadata": {},
            "source": [
                "## Exercise 5: Filtering and Subsetting\n",
                "\n",
                "1.  Create a new DataFrame `df_tall_trees` that contains only the trees with a `height` greater than 20.\n",
                "2. Create a new DataFrame `df_platanes` that contains only the trees of `species` equal to 'x hispanica'.\n",
                "3. Create a new DataFrame `df_old_trees` that contains only the trees of `stage` equal to 'Mature'."
            ]
        },
        {
            "cell_type": "code",
            "execution_count": null,
            "id": "158730b4",
            "metadata": {},
            "outputs": [],
            "source": [
                "# Exercise 5 Solution Here"
            ]
        },
        {
            "cell_type": "code",
            "execution_count": 6,
            "id": "525fc00b",
            "metadata": {},
            "outputs": [
                {
                    "name": "stdout",
                    "output_type": "stream",
                    "text": [
                        "(119, 17)\n",
                        "(198, 17)\n",
                        "(49, 17)\n"
                    ]
                }
            ],
            "source": [
                "df_tall_trees = df[df['height'] > 20]\n",
                "print(df_tall_trees.shape)\n",
                "df_platanes = df[df['species'] == 'x hispanica']\n",
                "print(df_platanes.shape)\n",
                "df_old_trees = df[df['stage'] == 'Mature']\n",
                "print(df_old_trees.shape)"
            ]
        },
        {
            "cell_type": "markdown",
            "id": "ef1cdd7a",
            "metadata": {},
            "source": [
                "# Pandas Exercises with Tree Data\n",
                "\n",
                "This notebook provides a series of exercises using a dataset of trees in Paris.  These exercises will focus on basic data cleaning, exploration, and filtering."
            ]
        },
        {
            "cell_type": "code",
            "execution_count": null,
            "id": "ccb0bb36",
            "metadata": {},
            "outputs": [],
            "source": [
                "import pandas as pd\n",
                "\n",
                "# Load the dataset\n",
                "df = pd.read_csv('les_arbres_upload_1k.csv')"
            ]
        },
        {
            "cell_type": "markdown",
            "id": "335efee5",
            "metadata": {},
            "source": [
                "## Exercise 1: Basic Inspection\n",
                "\n",
                "1.  Display the first 5 rows of the DataFrame using `.head()`.\n",
                "2.  Display the last 5 rows of the DataFrame using `.tail()`.\n",
                "3.  Get and print the shape of the DataFrame (number of rows and columns) using `.shape`.\n",
                "4. Get and print the column names using `.columns`.\n"
            ]
        },
        {
            "cell_type": "code",
            "execution_count": null,
            "id": "2d698802",
            "metadata": {},
            "outputs": [],
            "source": [
                "# Exercise 1 Solution Here\n"
            ]
        },
        {
            "cell_type": "code",
            "execution_count": null,
            "id": "07908069",
            "metadata": {},
            "outputs": [],
            "source": [
                "print(df.head())\n",
                "print(df.tail())\n",
                "print(df.shape)\n",
                "print(df.columns)"
            ]
        },
        {
            "cell_type": "markdown",
            "id": "88824598",
            "metadata": {},
            "source": [
                "## Exercise 2: Handling Missing Data\n",
                "\n",
                "1. Check for missing values in each column using `.isna().sum()`, and print the result.\n",
                "2. Fill the missing values in the `variety` column with 'Unknown' using `.fillna()` and then display the number of missing values using `.isna().sum()`. "
            ]
        },
        {
            "cell_type": "code",
            "execution_count": null,
            "id": "8cf5d66c",
            "metadata": {},
            "outputs": [],
            "source": [
                "# Exercise 2 Solution Here"
            ]
        },
        {
            "cell_type": "code",
            "execution_count": null,
            "id": "499a97cc",
            "metadata": {},
            "outputs": [],
            "source": [
                "print(df.isna().sum())\n",
                "df['variety'] = df['variety'].fillna('Unknown')\n",
                "print(df.isna().sum())"
            ]
        },
        {
            "cell_type": "markdown",
            "id": "d0d88396",
            "metadata": {},
            "source": [
                "## Exercise 3: Value Counts\n",
                "\n",
                "1.  Calculate and print the value counts for the `location_type` column.\n",
                "2.  Calculate and print the value counts for the `arrondissement` column.\n",
                "3.  Calculate and print the value counts for the `species` column. "
            ]
        },
        {
            "cell_type": "code",
            "execution_count": null,
            "id": "c49186ed",
            "metadata": {},
            "outputs": [],
            "source": [
                "# Exercise 3 Solution Here"
            ]
        },
        {
            "cell_type": "code",
            "execution_count": null,
            "id": "333c03c8",
            "metadata": {},
            "outputs": [],
            "source": [
                "print(df['location_type'].value_counts())\n",
                "print(df['arrondissement'].value_counts())\n",
                "print(df['species'].value_counts())"
            ]
        },
        {
            "cell_type": "markdown",
            "id": "71a3f602",
            "metadata": {},
            "source": [
                "## Exercise 4: Data Type Conversion\n",
                "\n",
                "1. Convert the `circumference` column to integer type using `.astype(int)`. \n",
                "2. Convert the `height` column to float type using `.astype(float)`. "
            ]
        },
        {
            "cell_type": "code",
            "execution_count": null,
            "id": "425ad440",
            "metadata": {},
            "outputs": [],
            "source": [
                "# Exercise 4 Solution Here"
            ]
        },
        {
            "cell_type": "code",
            "execution_count": null,
            "id": "b98c2412",
            "metadata": {},
            "outputs": [],
            "source": [
                "df['circumference'] = df['circumference'].astype(int)\n",
                "df['height'] = df['height'].astype(float)\n",
                "print(df[['circumference','height']].dtypes)"
            ]
        },
        {
            "cell_type": "markdown",
            "id": "d821525c",
            "metadata": {},
            "source": [
                "## Exercise 5: Filtering and Subsetting\n",
                "\n",
                "1.  Create a new DataFrame `df_tall_trees` that contains only the trees with a `height` greater than 20.\n",
                "2. Create a new DataFrame `df_platanes` that contains only the trees of `species` equal to 'x hispanica'.\n",
                "3. Create a new DataFrame `df_old_trees` that contains only the trees of `stage` equal to 'Mature'."
            ]
        },
        {
            "cell_type": "code",
            "execution_count": null,
            "id": "e924f431",
            "metadata": {},
            "outputs": [],
            "source": [
                "# Exercise 5 Solution Here"
            ]
        },
        {
            "cell_type": "code",
            "execution_count": null,
            "id": "c97d2df9",
            "metadata": {},
            "outputs": [],
            "source": [
                "df_tall_trees = df[df['height'] > 20]\n",
                "print(df_tall_trees.shape)\n",
                "df_platanes = df[df['species'] == 'x hispanica']\n",
                "print(df_platanes.shape)\n",
                "df_old_trees = df[df['stage'] == 'Mature']\n",
                "print(df_old_trees.shape)"
            ]
        },
        {
            "cell_type": "markdown",
            "id": "0e58b465",
            "metadata": {},
            "source": [
                "## Exercise 6: Creating a new Column with Lambda\n",
                "\n",
                "1. Create a new column `diameter` by calculating the diameter from the `circumference` column. Use a lambda function with `apply()` (diameter = circumference / pi ).\n"
            ]
        },
        {
            "cell_type": "code",
            "execution_count": null,
            "id": "6dfc217a",
            "metadata": {},
            "outputs": [],
            "source": [
                "# Exercise 6 Solution Here"
            ]
        },
        {
            "cell_type": "code",
            "execution_count": null,
            "id": "933d01b3",
            "metadata": {},
            "outputs": [],
            "source": [
                "import numpy as np\n",
                "df['diameter'] = df['circumference'].apply(lambda x: x / np.pi)\n",
                "print(df[['idbase','circumference','diameter']].head())"
            ]
        },
        {
            "cell_type": "markdown",
            "id": "31cb99d4",
            "metadata": {},
            "source": [
                "## Exercise 7: Exporting Data\n",
                "\n",
                "1. Calculate the value counts of the `species` column again and store the result in a new dataframe `species_counts` using `.value_counts().reset_index()`\n",
                "2. Export `species_counts` DataFrame to a CSV file named `species_counts.csv` without the index using `.to_csv(index=False)`"
            ]
        },
        {
            "cell_type": "code",
            "execution_count": null,
            "id": "153f597f",
            "metadata": {},
            "outputs": [],
            "source": [
                "# Exercise 7 Solution Here"
            ]
        },
        {
            "cell_type": "code",
            "execution_count": null,
            "id": "e204b5ff",
            "metadata": {},
            "outputs": [],
            "source": [
                "species_counts = df['species'].value_counts().reset_index()\n",
                "print(species_counts)\n",
                "species_counts.to_csv('species_counts.csv', index=False)"
            ]
        },
        {
            "cell_type": "markdown",
            "id": "d87d830f",
            "metadata": {},
            "source": [
                "## Exercise 8: Plotting a Histogram\n",
                "\n",
                "1.  Create a histogram of the `circumference` column with 100 bins using `.hist(bins=100)`."
            ]
        },
        {
            "cell_type": "code",
            "execution_count": null,
            "id": "477d7dbf",
            "metadata": {},
            "outputs": [],
            "source": [
                "# Exercise 8 Solution Here"
            ]
        },
        {
            "cell_type": "code",
            "execution_count": null,
            "id": "adacf089",
            "metadata": {},
            "outputs": [],
            "source": [
                "df['circumference'].hist(bins=100)"
            ]
        }
    ],
    "metadata": {
        "kernelspec": {
            "display_name": "Python 3 (ipykernel)",
            "language": "python",
            "name": "python3"
        },
        "language_info": {
            "codemirror_mode": {
                "name": "ipython",
                "version": 3
            },
            "file_extension": ".py",
            "mimetype": "text/x-python",
            "name": "python",
            "nbconvert_exporter": "python",
            "pygments_lexer": "ipython3",
            "version": "3.13.0"
        }
    },
    "nbformat": 4,
    "nbformat_minor": 5
}
