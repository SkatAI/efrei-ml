{
    "cells": [
        {
            "cell_type": "markdown",
            "id": "2f18cab0",
            "metadata": {},
            "source": [
                "# Pandas Exercises with Tree Data\n",
                "\n",
                "This notebook provides a series of exercises using a dataset of trees in Paris.  These exercises will focus on basic data cleaning, exploration, and filtering."
            ]
        },
        {
            "cell_type": "code",
            "execution_count": 1,
            "id": "c6fc7c60",
            "metadata": {},
            "outputs": [],
            "source": [
                "import pandas as pd\n",
                "\n",
                "# Load the dataset\n",
                "url = \"https://raw.githubusercontent.com/SkatAI/efrei-ml/refs/heads/master/data/les_arbres_upload_1k.csv\"\n",
                "df = pd.read_csv(url)"
            ]
        },
        {
            "cell_type": "markdown",
            "id": "96d3c1fc",
            "metadata": {},
            "source": [
                "## Exercise 1: Basic Inspection\n",
                "\n",
                "1.  Display the first 5 rows of the DataFrame using `.head()`.\n",
                "2.  Display the last 5 rows of the DataFrame using `.tail()`.\n",
                "3.  Get and print the shape of the DataFrame (number of rows and columns) using `.shape`.\n",
                "4. Get and print the column names using `.columns`.\n"
            ]
        },
        {
            "cell_type": "code",
            "execution_count": null,
            "id": "5cce7d1d",
            "metadata": {},
            "outputs": [],
            "source": [
                "# Exercise 1 Solution Here\n"
            ]
        },
        {
            "cell_type": "markdown",
            "id": "63909630",
            "metadata": {},
            "source": [
                "## Exercise 2: Handling Missing Data\n",
                "\n",
                "1. Check for missing values in each column using `.isna().sum()`, and print the result.\n",
                "2. Fill the missing values in the `variety` column with 'Unknown' using `.fillna()` and then display the number of missing values using `.isna().sum()`. "
            ]
        },
        {
            "cell_type": "code",
            "execution_count": null,
            "id": "0693190c",
            "metadata": {},
            "outputs": [],
            "source": [
                "# Exercise 2 Solution Here"
            ]
        },
        {
            "cell_type": "markdown",
            "id": "f61d51bf",
            "metadata": {},
            "source": [
                "## Exercise 3: Value Counts\n",
                "\n",
                "1.  Calculate and print the value counts for the `location_type` column.\n",
                "2.  Calculate and print the value counts for the `arrondissement` column.\n",
                "3.  Calculate and print the value counts for the `species` column. \n",
                "\n",
                "- make sure to include NaNs\n",
                "- display the 1st 10 rows of the results with `.head(10)`"
            ]
        },
        {
            "cell_type": "code",
            "execution_count": null,
            "id": "f285d1b4",
            "metadata": {},
            "outputs": [],
            "source": [
                "# Exercise 3 Solution Here"
            ]
        },
        {
            "cell_type": "markdown",
            "id": "d7f26d33",
            "metadata": {},
            "source": [
                "## Exercise 4: Data Type Conversion\n",
                "\n",
                "1. Convert the `circumference` column to integer type using `.astype(int)`. \n",
                "2. Convert the `height` column to float type using `.astype(float)`. "
            ]
        },
        {
            "cell_type": "code",
            "execution_count": null,
            "id": "477fab95",
            "metadata": {},
            "outputs": [],
            "source": [
                "# Exercise 4 Solution Here"
            ]
        },
        {
            "cell_type": "markdown",
            "id": "bb589e4e",
            "metadata": {},
            "source": [
                "## Exercise 5: Filtering and Subsetting\n",
                "\n",
                "1. Create a new DataFrame `df_tall_trees` that contains only the trees with a `height` greater than 20.\n",
                "2. Create a new DataFrame `df_platanes` that contains only the trees of `species` equal to 'x hispanica'.\n",
                "3. Create a new DataFrame `df_old_trees` that contains only the trees of `stage` equal to 'Mature'."
            ]
        },
        {
            "cell_type": "code",
            "execution_count": null,
            "id": "158730b4",
            "metadata": {},
            "outputs": [],
            "source": [
                "# Exercise 5 Solution Here"
            ]
        },
        {
            "cell_type": "markdown",
            "id": "48490343",
            "metadata": {},
            "source": [
                "Try to modify the df_tall_trees dataframe. For instance, replace the NaNs for variety with the empty string using .fillna()\n",
                "\n",
                "`.fillna(values = {'variety': ''}, inplace = True)`\n",
                "\n",
                "You will get an error \n",
                "\n",
                "        A value is trying to be set on a copy of a slice from a DataFrame\n",
                "\n",
                "How do you solve that error?\n",
                "Think of Mutable objects in python.\n",
                "\n",
                "Once you've found the trick, recreate the `df_tall_trees` dataframe and make sure you cna modify it without seeing the same error."
            ]
        },
        {
            "cell_type": "code",
            "execution_count": null,
            "id": "84ea9d36",
            "metadata": {},
            "outputs": [],
            "source": [
                "# solution"
            ]
        },
        {
            "cell_type": "markdown",
            "id": "0e58b465",
            "metadata": {},
            "source": [
                "## Exercise 6: Creating a new Column with Lambda\n",
                "\n",
                "1. Create a new column `diameter` by calculating the diameter from the `circumference` column. \n",
                "\n",
                "Use a lambda function with `apply()` (diameter = circumference / pi ).\n",
                "\n",
                "The pattern to use is : \n",
                "\n",
                "`df['new column'] = df['column'].apply( lambda row : <some tranformation on row>  )`\n"
            ]
        },
        {
            "cell_type": "code",
            "execution_count": null,
            "id": "6dfc217a",
            "metadata": {},
            "outputs": [],
            "source": [
                "# Exercise 6 Solution Here"
            ]
        },
        {
            "cell_type": "markdown",
            "id": "848a46de",
            "metadata": {},
            "source": [
                "Now use the same pattern to create a new column from 2 existing columns\n",
                "\n",
                "Calculate the ratio of height / max(circumference, 1) for a new column named `ratio`\n",
                "\n",
                "Hint: you need to use `df.apply( <lambda pattern>, axis = 1   )`\n"
            ]
        },
        {
            "cell_type": "markdown",
            "id": "31cb99d4",
            "metadata": {},
            "source": [
                "## Exercise 7: Exporting Data\n",
                "\n",
                "1. Calculate the value counts of the `species` column again and store the result in a new dataframe `species_counts` using `.value_counts().reset_index()`\n",
                "2. Export `species_counts` DataFrame to a CSV file named `species_counts.csv` without the index using `.to_csv(index=False)`"
            ]
        },
        {
            "cell_type": "code",
            "execution_count": null,
            "id": "153f597f",
            "metadata": {},
            "outputs": [],
            "source": [
                "# Exercise 7 Solution Here"
            ]
        },
        {
            "cell_type": "markdown",
            "id": "d87d830f",
            "metadata": {},
            "source": [
                "## Exercise 8: Plotting a Histogram\n",
                "\n",
                "1.  Create a histogram of the `circumference` column with 100 bins using `.hist(bins=100)`."
            ]
        },
        {
            "cell_type": "code",
            "execution_count": null,
            "id": "477d7dbf",
            "metadata": {},
            "outputs": [],
            "source": [
                "# Exercise 8 Solution Here"
            ]
        }
    ],
    "metadata": {
        "kernelspec": {
            "display_name": "Python 3 (ipykernel)",
            "language": "python",
            "name": "python3"
        },
        "language_info": {
            "codemirror_mode": {
                "name": "ipython",
                "version": 3
            },
            "file_extension": ".py",
            "mimetype": "text/x-python",
            "name": "python",
            "nbconvert_exporter": "python",
            "pygments_lexer": "ipython3",
            "version": "3.13.0"
        }
    },
    "nbformat": 4,
    "nbformat_minor": 5
}
