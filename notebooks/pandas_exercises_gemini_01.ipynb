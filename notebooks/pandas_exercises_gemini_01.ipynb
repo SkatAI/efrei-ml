{
    "cells": [
        {
            "cell_type": "markdown",
            "metadata": {},
            "source": [
                "# Pandas Exercises\n",
                "\n",
                "This notebook provides a series of exercises to help you practice using pandas for data manipulation."
            ]
        },
        {
            "cell_type": "code",
            "execution_count": 1,
            "metadata": {},
            "outputs": [],
            "source": [
                "import pandas as pd"
            ]
        },
        {
            "cell_type": "markdown",
            "metadata": {},
            "source": [
                "## Exercise 1: Creating DataFrames\n",
                "\n",
                "1. Create a pandas DataFrame named `df_1` from the following dictionary:\n",
                "   ```\n",
                "   data = {\n",
                "       'name': ['Alice', 'Bob', 'Charlie', 'David'],\n",
                "       'age': [25, 30, 22, 28],\n",
                "       'city': ['New York', 'London', 'Paris', 'Tokyo']\n",
                "   }\n",
                "   ```\n",
                "2. Print the DataFrame."
            ]
        },
        {
            "cell_type": "code",
            "execution_count": 2,
            "metadata": {},
            "outputs": [],
            "source": [
                "# Exercise 1 Solution Here"
            ]
        },
        {
            "cell_type": "markdown",
            "metadata": {},
            "source": [
                "## Exercise 2: Basic DataFrame Inspection\n",
                "\n",
                "1. Create a pandas DataFrame named `df_2` from the following list of lists:\n",
                "   ```\n",
                "   data = [\n",
                "       ['apple', 1.2], \n",
                "       ['banana', 0.8], \n",
                "       ['cherry', 2.0], \n",
                "       ['date', 1.5]\n",
                "   ]\n",
                "   columns = ['fruit', 'price']\n",
                "   ```\n",
                "2. Print the first 2 rows of `df_2` using `.head()`\n",
                "3. Print the last 2 rows of `df_2` using `.tail()`\n",
                "4. Get the shape of the DataFrame (number of rows and columns) and print it.\n",
                "5. Print the column names."
            ]
        },
        {
            "cell_type": "code",
            "execution_count": 3,
            "metadata": {},
            "outputs": [],
            "source": [
                "# Exercise 2 Solution Here"
            ]
        },
        {
            "cell_type": "markdown",
            "metadata": {},
            "source": [
                "## Exercise 3: Selecting Data\n",
                "\n",
                "1. Using `df_1` from Exercise 1, select and print the 'name' column.\n",
                "2. Select and print the row where the 'age' is 30.\n",
                "3. Select and print the 'name' and 'city' columns for all rows where age is greater than 25"
            ]
        },
        {
            "cell_type": "code",
            "execution_count": 4,
            "metadata": {},
            "outputs": [],
            "source": [
                "# Exercise 3 Solution Here"
            ]
        },
        {
            "cell_type": "markdown",
            "metadata": {},
            "source": [
                "## Exercise 4: Modifying DataFrames\n",
                "1. Add a new column named 'occupation' to `df_1`. Use the following values in order : 'Engineer', 'Teacher', 'Artist', 'Doctor'\n",
                "2. Change the age of Bob to 31 in `df_1`\n",
                "3. Remove the 'city' column from the DataFrame `df_1`"
            ]
        },
        {
            "cell_type": "code",
            "execution_count": 5,
            "metadata": {},
            "outputs": [],
            "source": [
                "# Exercise 4 Solution Here"
            ]
        },
        {
            "cell_type": "markdown",
            "metadata": {},
            "source": [
                "## Exercise 5: Descriptive Statistics\n",
                "\n",
                "1. Create a pandas DataFrame named `df_3` from the following dictionary:\n",
                "    ```\n",
                "   data = {\n",
                "       'scores': [85, 92, 78, 95, 88, 79, 90]\n",
                "    }\n",
                "    ```\n",
                "2. Calculate and print the mean, median, and standard deviation of the 'scores' column in `df_3`"
            ]
        },
        {
            "cell_type": "code",
            "execution_count": 6,
            "metadata": {},
            "outputs": [],
            "source": [
                "# Exercise 5 Solution Here"
            ]
        }
    ],
    "metadata": {
        "kernelspec": {
            "display_name": "Python 3",
            "language": "python",
            "name": "python3"
        },
        "language_info": {
            "codemirror_mode": {
                "name": "ipython",
                "version": 3
            },
            "file_extension": ".py",
            "mimetype": "text/x-python",
            "name": "python",
            "nbconvert_exporter": "python",
            "pygments_lexer": "ipython3",
            "version": "3.10.12"
        }
    },
    "nbformat": 4,
    "nbformat_minor": 5
}